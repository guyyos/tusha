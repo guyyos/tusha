{
 "cells": [
  {
   "cell_type": "code",
   "execution_count": null,
   "metadata": {},
   "outputs": [],
   "source": [
    "%pip install pymc==5.0.2\n",
    "%pip install cloudpickle==2.2.1"
   ]
  },
  {
   "cell_type": "code",
   "execution_count": null,
   "metadata": {},
   "outputs": [],
   "source": [
    "# Read the data from a CSV file\n",
    "import pymc as pm\n",
    "import cloudpickle\n",
    "\n",
    "def sample_model(model):\n",
    "    with model:\n",
    "        idata = pm.sample(1000, tune=1000)\n",
    "        # idata = jax.sample_numpyro_nuts(1000, tune=1000) # faster\n",
    "        # idata = jax.sample_blackjax_nuts() # not working\n",
    "\n",
    "        pm.sample_posterior_predictive(idata, extend_inferencedata=True)\n",
    "\n",
    "    return model, idata\n"
   ]
  },
  {
   "cell_type": "code",
   "execution_count": null,
   "metadata": {},
   "outputs": [],
   "source": [
    "input_model_file_name = 'model.bin'\n",
    "with open(input_model_file_name, 'rb') as handle:\n",
    "    model = cloudpickle.load(handle)\n",
    "\n",
    "    new_model, idata = sample_model(model)\n",
    "    results = {'new_model':new_model,'idata':idata}\n",
    "\n",
    "    results_file_name = 'results.bin'\n",
    "    with open(results_file_name, 'wb') as handle:\n",
    "            cloudpickle.dump(results, handle)\n",
    "            print(f'Saved simulation results to file: {results_file_name}')\n",
    "            print(f'Upload {results_file_name} to Tusha app in order to analyze the results.')"
   ]
  }
 ],
 "metadata": {
  "kernelspec": {
   "display_name": "infer",
   "language": "python",
   "name": "python3"
  },
  "language_info": {
   "codemirror_mode": {
    "name": "ipython",
    "version": 3
   },
   "file_extension": ".py",
   "mimetype": "text/x-python",
   "name": "python",
   "nbconvert_exporter": "python",
   "pygments_lexer": "ipython3",
   "version": "3.10.9"
  },
  "orig_nbformat": 4
 },
 "nbformat": 4,
 "nbformat_minor": 2
}
