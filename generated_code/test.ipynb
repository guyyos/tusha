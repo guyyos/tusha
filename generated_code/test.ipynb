{
 "cells": [
  {
   "cell_type": "markdown",
   "id": "52cf8c29",
   "metadata": {},
   "source": [
    "# My first automatic Jupyter Notebook\n",
    "This is an auto-generated notebook."
   ]
  },
  {
   "cell_type": "code",
   "execution_count": null,
   "id": "a62906ce",
   "metadata": {},
   "outputs": [],
   "source": [
    "%pylab inline\n",
    "hist(normal(size=2000), bins=50);\n",
    "\n"
   ]
  }
 ],
 "metadata": {},
 "nbformat": 4,
 "nbformat_minor": 5
}
