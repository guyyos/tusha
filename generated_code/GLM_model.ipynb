{
 "cells": [
  {
   "cell_type": "markdown",
   "id": "d7ef91b3",
   "metadata": {},
   "source": [
    "# Model Data Analysis"
   ]
  },
  {
   "cell_type": "code",
   "execution_count": null,
   "id": "b6e92bd9",
   "metadata": {},
   "outputs": [],
   "source": [
    "import arviz as az\n",
    "import matplotlib.pyplot as plt\n",
    "import numpy as np\n",
    "import pandas as pd\n",
    "import pymc as pm\n",
    "import xarray as xr\n",
    "from pymc import HalfCauchy, Model, Normal, sample\n",
    "\n",
    "data_file = '../data/reg_data.csv'\n",
    "target = 'y'\n",
    "\n",
    "df = pd.read_csv(data_file)\n",
    "\n",
    "features = list(set(df.columns).difference(set([target])))\n",
    "print(f' target = {target}, features = {features}')\n",
    "\n",
    "display(df.head())\n",
    "display(df.info())\n",
    "display(df.describe())\n",
    "display(df.corr())"
   ]
  }
 ],
 "metadata": {},
 "nbformat": 4,
 "nbformat_minor": 5
}
