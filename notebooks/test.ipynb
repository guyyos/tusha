{
 "cells": [
  {
   "cell_type": "markdown",
   "id": "03350337",
   "metadata": {},
   "source": [
    "# My first automatic Jupyter Notebook\n",
    "This is an auto-generated notebook."
   ]
  },
  {
   "cell_type": "code",
   "execution_count": 2,
   "id": "0e12c50d",
   "metadata": {},
   "outputs": [
    {
     "data": {
      "image/png": "[encoded data removed]",
      "text/plain": [
       "<Figure size 432x288 with 1 Axes>"
      ]
     },
     "metadata": {
      "needs_background": "light"
     },
     "output_type": "display_data"
    }
   ],
   "source": [
    "%matplotlib inline\n",
    "hist(normal(size=2000), bins=50);"
   ]
  },
  {
   "cell_type": "code",
   "execution_count": 84,
   "id": "0f25b42e-daa3-4a43-a783-cbd41ef5c0cd",
   "metadata": {},
   "outputs": [
    {
     "ename": "NameError",
     "evalue": "name 'pd' is not defined",
     "output_type": "error",
     "traceback": [
      "\u001b[0;31m---------------------------------------------------------------------------\u001b[0m",
      "\u001b[0;31mNameError\u001b[0m                                 Traceback (most recent call last)",
      "Cell \u001b[0;32mIn[84], line 1\u001b[0m\n\u001b[0;32m----> 1\u001b[0m df \u001b[39m=\u001b[39m pd\u001b[39m.\u001b[39mDataFrame(\n\u001b[1;32m      2\u001b[0m     np\u001b[39m.\u001b[39mrandom\u001b[39m.\u001b[39mrandint(\u001b[39m0\u001b[39m, \u001b[39m100\u001b[39m, size\u001b[39m=\u001b[39m(\u001b[39m100\u001b[39m, \u001b[39m4\u001b[39m)),\n\u001b[1;32m      3\u001b[0m     columns\u001b[39m=\u001b[39m\u001b[39mlist\u001b[39m(\u001b[39m'\u001b[39m\u001b[39mABCD\u001b[39m\u001b[39m'\u001b[39m)\n\u001b[1;32m      4\u001b[0m )\n\u001b[1;32m      5\u001b[0m df\n",
      "\u001b[0;31mNameError\u001b[0m: name 'pd' is not defined"
     ]
    }
   ],
   "source": [
    "\n",
    "df = pd.DataFrame(\n",
    "    np.random.randint(0, 100, size=(100, 4)),\n",
    "    columns=list('ABCD')\n",
    ")\n",
    "df"
   ]
  },
  {
   "cell_type": "code",
   "execution_count": 5,
   "id": "cf221a18",
   "metadata": {},
   "outputs": [
    {
     "name": "stdout",
     "output_type": "stream",
     "text": [
      "0 0.9\n",
      "1 0.8780487804878049\n",
      "2 0.8520710059171598\n",
      "3 0.8216833095577747\n",
      "4 0.7866165926937522\n",
      "5 0.7467790292520866\n",
      "6 0.7023185810360266\n",
      "7 0.6536720734459021\n",
      "8 0.6015856000669082\n",
      "9 0.5470931525470265\n",
      "10 0.4914481001191025\n",
      "11 0.43601414470316746\n",
      "12 0.38213452760563815\n",
      "13 0.3310053355950203\n",
      "14 0.283577394610027\n",
      "15 0.24050210792048368\n",
      "16 0.20212393271207327\n",
      "17 0.16851117442583458\n",
      "18 0.13951076408072538\n",
      "19 0.11481211648385797\n"
     ]
    }
   ],
   "source": [
    "for i in range(20):\n",
    "    print(i,0.9*pow(0.8,i)/(0.9*pow(0.8,i)+0.1))"
   ]
  },
  {
   "cell_type": "code",
   "execution_count": 6,
   "id": "4b9f2aff",
   "metadata": {},
   "outputs": [
    {
     "name": "stdout",
     "output_type": "stream",
     "text": [
      "[3.6788e-01 3.6788e-01 1.8394e-01 6.1310e-02 1.5330e-02 3.0700e-03\n",
      " 5.1000e-04 7.0000e-05 1.0000e-05 0.0000e+00 0.0000e+00 0.0000e+00\n",
      " 0.0000e+00 0.0000e+00 0.0000e+00 0.0000e+00 0.0000e+00]\n"
     ]
    }
   ],
   "source": [
    "import numpy as np\n",
    "import matplotlib.pyplot as plt\n",
    "from scipy.stats import poisson\n",
    "\n",
    "k = np.arange(0, 17)\n",
    "\n",
    "pmf = poisson.pmf(k, mu=2000*0.0005)\n",
    "pmf = np.round(pmf, 5)\n",
    "\n",
    "print(pmf)\n"
   ]
  },
  {
   "cell_type": "code",
   "execution_count": 25,
   "id": "ceb3e079",
   "metadata": {},
   "outputs": [
    {
     "data": {
      "text/plain": [
       "1.0"
      ]
     },
     "execution_count": 25,
     "metadata": {},
     "output_type": "execute_result"
    }
   ],
   "source": [
    "2000*0.0005"
   ]
  },
  {
   "cell_type": "code",
   "execution_count": 34,
   "id": "f8a87f6c",
   "metadata": {},
   "outputs": [
    {
     "data": {
      "text/plain": [
       "(10000000000.0, 4.5399929762484875e-05, 453999.2976248487, 10.0)"
      ]
     },
     "execution_count": 34,
     "metadata": {},
     "output_type": "execute_result"
    }
   ],
   "source": [
    "lam  = 2000*0.005\n",
    "k = 10\n",
    "\n",
    "pow(lam,k),pow(np.e,-lam),pow(lam,k)*pow(np.e,-lam),lam"
   ]
  },
  {
   "cell_type": "code",
   "execution_count": 33,
   "id": "9a547eb1",
   "metadata": {},
   "outputs": [
    {
     "data": {
      "text/plain": [
       "[(0, 4.5399929762484875e-05),\n",
       " (1, 0.00045399929762484877),\n",
       " (2, 0.0022699964881242435),\n",
       " (3, 0.007566654960414146),\n",
       " (4, 0.018916637401035365),\n",
       " (5, 0.03783327480207073),\n",
       " (6, 0.06305545800345122),\n",
       " (7, 0.09007922571921602),\n",
       " (8, 0.11259903214902002),\n",
       " (9, 0.12511003572113336),\n",
       " (10, 0.12511003572113336),\n",
       " (11, 0.11373639611012125),\n",
       " (12, 0.09478033009176769),\n",
       " (13, 0.07290794622443669),\n",
       " (14, 0.05207710444602621),\n",
       " (15, 0.034718069630684134),\n",
       " (16, 0.021698793519177587),\n",
       " (17, 0.01276399618775152),\n",
       " (18, 0.0070911089931952895),\n",
       " (19, 0.003732162627997521),\n",
       " (20, 0.0018660813139987603),\n",
       " (21, 0.0008886101495232192),\n",
       " (22, 0.00040391370432873606),\n",
       " (23, 0.00017561465405597219),\n",
       " (24, 7.317277252332174e-05),\n",
       " (25, 2.92691090093287e-05),\n",
       " (26, 1.1257349618972576e-05),\n",
       " (27, 4.169388747767621e-06),\n",
       " (28, 1.4890674099170073e-06),\n",
       " (29, 5.13471520661037e-07)]"
      ]
     },
     "execution_count": 33,
     "metadata": {},
     "output_type": "execute_result"
    }
   ],
   "source": [
    "vals = [(k,pow(lam,k)*pow(np.e,-lam)/np.math.factorial(k)) for k in range(30)]\n",
    "vals"
   ]
  },
  {
   "cell_type": "code",
   "execution_count": 52,
   "id": "cdbffe31",
   "metadata": {},
   "outputs": [
    {
     "data": {
      "text/plain": [
       "(250.0, 11.180339887498949)"
      ]
     },
     "execution_count": 52,
     "metadata": {},
     "output_type": "execute_result"
    }
   ],
   "source": [
    "mu = 500*0.5\n",
    "sd = pow(mu*0.5,0.5)\n",
    "mu,sd"
   ]
  },
  {
   "cell_type": "code",
   "execution_count": 55,
   "id": "94bbe952",
   "metadata": {},
   "outputs": [
    {
     "data": {
      "text/plain": [
       "0.33206522994853205"
      ]
     },
     "execution_count": 55,
     "metadata": {},
     "output_type": "execute_result"
    }
   ],
   "source": [
    "from scipy.stats import norm\n",
    "\n",
    "#calculate probability that random value is less than 1.96 in normal CDF\n",
    "1-norm.cdf(mu,sd,550)"
   ]
  },
  {
   "cell_type": "code",
   "execution_count": 48,
   "id": "6b23a423",
   "metadata": {},
   "outputs": [
    {
     "data": {
      "text/plain": [
       "0.025923198999924013"
      ]
     },
     "execution_count": 48,
     "metadata": {},
     "output_type": "execute_result"
    }
   ],
   "source": [
    "1-norm.cdf(250,mu,sd)"
   ]
  },
  {
   "cell_type": "code",
   "execution_count": 51,
   "id": "9bd3b208",
   "metadata": {},
   "outputs": [
    {
     "data": {
      "text/plain": [
       "0.8510855061768432"
      ]
     },
     "execution_count": 51,
     "metadata": {},
     "output_type": "execute_result"
    }
   ],
   "source": [
    "mu,sd = 159,8.6447\n",
    "\n",
    "1-norm.cdf(150,mu,sd)"
   ]
  },
  {
   "cell_type": "code",
   "execution_count": 75,
   "id": "77d70231",
   "metadata": {},
   "outputs": [
    {
     "data": {
      "text/plain": [
       "'Δ'"
      ]
     },
     "execution_count": 75,
     "metadata": {},
     "output_type": "execute_result"
    }
   ],
   "source": [
    "\"\\u0394\""
   ]
  },
  {
   "cell_type": "code",
   "execution_count": 76,
   "id": "c69ec8dd",
   "metadata": {},
   "outputs": [
    {
     "data": {
      "text/plain": [
       "'💾'"
      ]
     },
     "execution_count": 76,
     "metadata": {},
     "output_type": "execute_result"
    }
   ],
   "source": [
    "u\"\\U0001F4BE\""
   ]
  },
  {
   "cell_type": "code",
   "execution_count": 68,
   "id": "b3bc4649",
   "metadata": {},
   "outputs": [
    {
     "data": {
      "text/plain": [
       "[(9690, '◚'),\n",
       " (9691, '◛'),\n",
       " (9692, '◜'),\n",
       " (9693, '◝'),\n",
       " (9694, '◞'),\n",
       " (9695, '◟'),\n",
       " (9696, '◠'),\n",
       " (9697, '◡'),\n",
       " (9698, '◢'),\n",
       " (9699, '◣'),\n",
       " (9700, '◤'),\n",
       " (9701, '◥'),\n",
       " (9702, '◦'),\n",
       " (9703, '◧'),\n",
       " (9704, '◨'),\n",
       " (9705, '◩'),\n",
       " (9706, '◪'),\n",
       " (9707, '◫'),\n",
       " (9708, '◬'),\n",
       " (9709, '◭'),\n",
       " (9710, '◮'),\n",
       " (9711, '◯'),\n",
       " (9712, '◰'),\n",
       " (9713, '◱'),\n",
       " (9714, '◲'),\n",
       " (9715, '◳'),\n",
       " (9716, '◴'),\n",
       " (9717, '◵'),\n",
       " (9718, '◶'),\n",
       " (9719, '◷'),\n",
       " (9720, '◸'),\n",
       " (9721, '◹'),\n",
       " (9722, '◺'),\n",
       " (9723, '◻'),\n",
       " (9724, '◼'),\n",
       " (9725, '◽'),\n",
       " (9726, '◾'),\n",
       " (9727, '◿'),\n",
       " (9728, '☀'),\n",
       " (9729, '☁'),\n",
       " (9730, '☂'),\n",
       " (9731, '☃'),\n",
       " (9732, '☄'),\n",
       " (9733, '★'),\n",
       " (9734, '☆'),\n",
       " (9735, '☇'),\n",
       " (9736, '☈'),\n",
       " (9737, '☉'),\n",
       " (9738, '☊'),\n",
       " (9739, '☋'),\n",
       " (9740, '☌'),\n",
       " (9741, '☍'),\n",
       " (9742, '☎'),\n",
       " (9743, '☏'),\n",
       " (9744, '☐'),\n",
       " (9745, '☑'),\n",
       " (9746, '☒'),\n",
       " (9747, '☓'),\n",
       " (9748, '☔'),\n",
       " (9749, '☕'),\n",
       " (9750, '☖'),\n",
       " (9751, '☗'),\n",
       " (9752, '☘'),\n",
       " (9753, '☙'),\n",
       " (9754, '☚'),\n",
       " (9755, '☛'),\n",
       " (9756, '☜'),\n",
       " (9757, '☝'),\n",
       " (9758, '☞'),\n",
       " (9759, '☟'),\n",
       " (9760, '☠'),\n",
       " (9761, '☡'),\n",
       " (9762, '☢'),\n",
       " (9763, '☣'),\n",
       " (9764, '☤'),\n",
       " (9765, '☥'),\n",
       " (9766, '☦'),\n",
       " (9767, '☧'),\n",
       " (9768, '☨'),\n",
       " (9769, '☩'),\n",
       " (9770, '☪'),\n",
       " (9771, '☫'),\n",
       " (9772, '☬'),\n",
       " (9773, '☭'),\n",
       " (9774, '☮'),\n",
       " (9775, '☯'),\n",
       " (9776, '☰'),\n",
       " (9777, '☱'),\n",
       " (9778, '☲'),\n",
       " (9779, '☳')]"
      ]
     },
     "execution_count": 68,
     "metadata": {},
     "output_type": "execute_result"
    }
   ],
   "source": [
    "[(i,chr(i)) for i in range(9690,9780)]"
   ]
  },
  {
   "cell_type": "code",
   "execution_count": 82,
   "id": "d6841302",
   "metadata": {},
   "outputs": [
    {
     "data": {
      "text/plain": [
       "0.8807970779778823"
      ]
     },
     "execution_count": 82,
     "metadata": {},
     "output_type": "execute_result"
    }
   ],
   "source": [
    "1/(1+pow(np.e,-2))"
   ]
  },
  {
   "cell_type": "code",
   "execution_count": 83,
   "id": "9d528ae9",
   "metadata": {},
   "outputs": [
    {
     "ename": "NameError",
     "evalue": "name 'df' is not defined",
     "output_type": "error",
     "traceback": [
      "\u001b[0;31m---------------------------------------------------------------------------\u001b[0m",
      "\u001b[0;31mNameError\u001b[0m                                 Traceback (most recent call last)",
      "Cell \u001b[0;32mIn[83], line 1\u001b[0m\n\u001b[0;32m----> 1\u001b[0m df\u001b[39m.\u001b[39mdtypes\n",
      "\u001b[0;31mNameError\u001b[0m: name 'df' is not defined"
     ]
    }
   ],
   "source": [
    "df.dtypes"
   ]
  }
 ],
 "metadata": {
  "kernelspec": {
   "display_name": "tusha-env",
   "language": "python",
   "name": "python3"
  },
  "language_info": {
   "codemirror_mode": {
    "name": "ipython",
    "version": 3
   },
   "file_extension": ".py",
   "mimetype": "text/x-python",
   "name": "python",
   "nbconvert_exporter": "python",
   "pygments_lexer": "ipython3",
   "version": "3.10.9"
  },
  "vscode": {
   "interpreter": {
    "hash": "03609ac9224b81167e8c0098cbfd7b8b92a04b17f1b1ebc11217760957456a9d"
   }
  }
 },
 "nbformat": 4,
 "nbformat_minor": 5
}
