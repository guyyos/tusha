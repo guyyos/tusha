{
 "cells": [
  {
   "cell_type": "code",
   "execution_count": 2,
   "id": "948aabf1-482f-471a-a00e-22f9e5ca1095",
   "metadata": {},
   "outputs": [],
   "source": [
    "import nbformat as nbf\n",
    "\n",
    "nb = nbf.v4.new_notebook()\n",
    "text = \"\"\"\\\n",
    "# My first automatic Jupyter Notebook\n",
    "This is an auto-generated notebook.\"\"\"\n",
    "\n",
    "code = \"\"\"\\\n",
    "%pylab inline\n",
    "hist(normal(size=2000), bins=50);\n",
    "\n",
    "\"\"\"\n",
    "\n",
    "nb['cells'] = [nbf.v4.new_markdown_cell(text),\n",
    "               nbf.v4.new_code_cell(code)]\n",
    "fname = '../generated_code/'+'test.ipynb'\n",
    "\n",
    "with open(fname, 'w') as f:\n",
    "    nbf.write(nb, f)"
   ]
  },
  {
   "cell_type": "code",
   "execution_count": null,
   "id": "94320a75",
   "metadata": {},
   "outputs": [],
   "source": [
    "def load_cell_file(cell_file):\n",
    "    with open(cell_file,mode='r') as f:\n",
    "        lines = f.readlines()\n",
    "        return lines"
   ]
  }
 ],
 "metadata": {
  "kernelspec": {
   "display_name": "base",
   "language": "python",
   "name": "python3"
  },
  "language_info": {
   "codemirror_mode": {
    "name": "ipython",
    "version": 3
   },
   "file_extension": ".py",
   "mimetype": "text/x-python",
   "name": "python",
   "nbconvert_exporter": "python",
   "pygments_lexer": "ipython3",
   "version": "3.9.12"
  },
  "vscode": {
   "interpreter": {
    "hash": "f08154012ddadd8e950e6e9e035c7a7b32c136e7647e9b7c77e02eb723a8bedb"
   }
  }
 },
 "nbformat": 4,
 "nbformat_minor": 5
}
